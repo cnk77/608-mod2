{
 "cells": [
  {
   "cell_type": "code",
   "execution_count": 12,
   "id": "e4161b89-84d2-4d9b-8d35-81c050822b71",
   "metadata": {},
   "outputs": [
    {
     "name": "stdout",
     "output_type": "stream",
     "text": [
      "Count = 200\n",
      "Hours = 13.333333333333334\n",
      "Total = 1230.0999999999995\n",
      "Native mean = 6.150499999999997\n",
      "Mean = 6.15 degrees for 13.33 hours\n",
      "Median = 5.7 degrees for 13.33 hours\n",
      "Mode = 5.7  degrees for 13.33 hours\n"
     ]
    }
   ],
   "source": [
    "# Bonus using temperature data from a temperature logger on a cold chain shipment\n",
    "\n",
    "# Kyle Hudson\n",
    "\n",
    "import statistics\n",
    "\n",
    "temps = (3.4, 3.5, 4, 4.4, 4.6, 4.7, 4.8, 4.9, 4.9, 4.8, 4.7, 5.1, 5.5, 5.5, 5.6, 5.6, 5.6, 5.6, 5.5, 5.5, 5.5, 5.5, 5.5, 5.4, 5.4, 5.4, 5.3, 5.3, 5.3, 5.3, 5.3, 5.3, 5.2, 5.2, 5.2, 5.2, 5.2, 5.2, 5.2,\n",
    "        5.3, 5.3, 5.3, 5.4, 5.4, 5.5, 5.5, 5.6, 5.6, 5.7, 5.7, 5.7, 5.7, 5.7, 5.7, 5.7, 5.7, 5.7, 5.7, 5.7, 5.7, 5.7, 5.7, 5.7, 5.7, 5.8, 5.8, 5.9, 5.9, 6, 6, 6.1, 6.1, 6.1, 6.1, 5.5, 6, 6, 6, 6, 6,\n",
    "        6, 6, 5.8, 5.5, 5.4, 5.3, 5.3, 5.3, 5.2, 5.2, 5.2, 5.2, 5.1, 5.1, 5.3, 5.9, 6.1, 6.2, 6.2, 6.3, 6.3, 6.4, 6.4, 6.4, 6.3, 6.3, 6.3, 6.3, 6.3, 6.3, 6.3, 6.2, 6.2, 5.6, 5.1, 4.6, 4.5, 4.5, 4.5,\n",
    "        4.5, 4.5, 4.6, 4.5, 4.6, 4.6, 4.6, 4.6, 4.7, 4.7, 4.7, 4.8, 4.8, 4.9, 4.9, 5, 5, 5.1, 5.1, 5.2, 5.3, 5.4, 5.4, 5.5, 5.6, 5.7, 5.8, 5.8, 5.9, 6, 6.1, 6.1, 6.3, 6.3, 6.4, 6.5, 6.5, 6.7, 6.7,\n",
    "        6.8, 6.8, 6.9, 7, 7.1, 7, 7.1, 7.2, 7, 6.8, 7.1, 7.3, 7.5, 7.6, 7.8, 7.9, 8, 8.1, 8.2, 8.3, 8.4, 8.5, 8.7, 8.8, 8.9, 9, 9, 9.3, 9.5, 9.6, 9.8, 9.9, 10.1, 10.2, 10.4, 10.5, 10.6, 10.8, 10.9, 11,\n",
    "        11.1, 11.3)\n",
    "\n",
    "count = len(temps)\n",
    "print('Count =', count)\n",
    "\n",
    "hours = count / 15\n",
    "print('Hours =', hours)\n",
    "\n",
    "total = sum(temps)\n",
    "print('Total =', total)\n",
    "\n",
    "native_mean = total / count\n",
    "print('Native mean =', native_mean)\n",
    "\n",
    "print(f'Mean = {statistics.mean(temps):.2f} degrees for {hours:.2f} hours')\n",
    "\n",
    "print(f'Median = {statistics.median(temps)} degrees for {hours:.2f} hours')\n",
    "\n",
    "print(f'Mode = {statistics.mode(temps)}  degrees for {hours:.2f} hours')\n",
    "\n",
    "\n",
    "    "
   ]
  }
 ],
 "metadata": {
  "kernelspec": {
   "display_name": "Python 3 (ipykernel)",
   "language": "python",
   "name": "python3"
  },
  "language_info": {
   "codemirror_mode": {
    "name": "ipython",
    "version": 3
   },
   "file_extension": ".py",
   "mimetype": "text/x-python",
   "name": "python",
   "nbconvert_exporter": "python",
   "pygments_lexer": "ipython3",
   "version": "3.8.12"
  }
 },
 "nbformat": 4,
 "nbformat_minor": 5
}
