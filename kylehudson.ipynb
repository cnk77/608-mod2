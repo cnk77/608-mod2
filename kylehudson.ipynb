{
 "cells": [
  {
   "cell_type": "code",
   "execution_count": 1,
   "id": "78dfa27a-2c3a-4490-8176-4c11591b48f0",
   "metadata": {},
   "outputs": [
    {
     "name": "stdin",
     "output_type": "stream",
     "text": [
      "Enter first integer: 10\n",
      "Enter second integer: 5\n"
     ]
    },
    {
     "name": "stdout",
     "output_type": "stream",
     "text": [
      "10 + 5 = 15\n"
     ]
    }
   ],
   "source": [
    "# 3.3 self-check\n",
    "\n",
    "number1 = int(input('Enter first integer:'))\n",
    "number2 = int(input('Enter second integer:'))\n",
    "total = number1 + number2\n",
    "print(number1, '+', number2, '=', total)"
   ]
  },
  {
   "cell_type": "code",
   "execution_count": 3,
   "id": "73bde87f-92d6-44b7-a616-e5d65d0bc76d",
   "metadata": {},
   "outputs": [],
   "source": [
    "# 3.5 self-check\n",
    "\n",
    "grade = 55\n",
    "\n",
    "if grade >= 60:\n",
    "    print('Passed')"
   ]
  },
  {
   "cell_type": "code",
   "execution_count": 4,
   "id": "75e73066-5cdf-481e-8275-c302e50da8ab",
   "metadata": {},
   "outputs": [
    {
     "ename": "SyntaxError",
     "evalue": "invalid syntax (Temp/ipykernel_12852/1420262296.py, line 9)",
     "output_type": "error",
     "traceback": [
      "\u001b[1;36m  File \u001b[1;32m\"C:\\Users\\mizzo\\AppData\\Local\\Temp/ipykernel_12852/1420262296.py\"\u001b[1;36m, line \u001b[1;32m9\u001b[0m\n\u001b[1;33m    else grade >= 70:\u001b[0m\n\u001b[1;37m         ^\u001b[0m\n\u001b[1;31mSyntaxError\u001b[0m\u001b[1;31m:\u001b[0m invalid syntax\n"
     ]
    }
   ],
   "source": [
    "# 3.6 self-check\n",
    "\n",
    "grade = 80\n",
    "\n",
    "if grade >= 90:\n",
    "    print('A')\n",
    "elif grade >= 80:\n",
    "    print('B')\n",
    "else grade >= 70:\n",
    "    print('C')\n",
    "elif grade >= 60:\n",
    "    print('D')"
   ]
  },
  {
   "cell_type": "code",
   "execution_count": 5,
   "id": "02227cea-c26c-4f4c-9abb-2694aa1dbb06",
   "metadata": {},
   "outputs": [
    {
     "data": {
      "text/plain": [
       "2401"
      ]
     },
     "execution_count": 5,
     "metadata": {},
     "output_type": "execute_result"
    }
   ],
   "source": [
    "# 3.7 self-check\n",
    "\n",
    "product = 7\n",
    "\n",
    "while product <= 1000:\n",
    "    product = product * 7\n",
    "\n",
    "product"
   ]
  },
  {
   "cell_type": "code",
   "execution_count": 11,
   "id": "14651af9-c2a0-40ab-931f-ad78528aa799",
   "metadata": {},
   "outputs": [
    {
     "name": "stdout",
     "output_type": "stream",
     "text": [
      "2\n",
      "3\n",
      "4\n",
      "5\n",
      "6\n",
      "7\n",
      "8\n",
      "9\n",
      "10\n",
      "11\n"
     ]
    }
   ],
   "source": [
    "# while statement practice\n",
    "\n",
    "temp = 1\n",
    "\n",
    "while temp <= 10:\n",
    "    temp = temp + 1\n",
    "    print(temp)\n",
    "    \n",
    "\n"
   ]
  },
  {
   "cell_type": "code",
   "execution_count": 13,
   "id": "bba23809-4eaa-4f20-a854-e8691cb0bf35",
   "metadata": {},
   "outputs": [
    {
     "data": {
      "text/plain": [
       "500000500000"
      ]
     },
     "execution_count": 13,
     "metadata": {},
     "output_type": "execute_result"
    }
   ],
   "source": [
    "# 3.8 self-check\n",
    "\n",
    "total = 0\n",
    "\n",
    "for number in range(1000001):\n",
    "    total = total + number\n",
    "    \n",
    "total"
   ]
  },
  {
   "cell_type": "code",
   "execution_count": 14,
   "id": "208ab8e4-c329-47bd-b607-6509524c14c3",
   "metadata": {},
   "outputs": [
    {
     "name": "stdout",
     "output_type": "stream",
     "text": [
      "0***1***2***3***4***5***6***7***8***9***"
     ]
    }
   ],
   "source": [
    "# 3.8 practice\n",
    "\n",
    "for counter in range(10):\n",
    "    print(counter, end='***')\n"
   ]
  },
  {
   "cell_type": "code",
   "execution_count": 19,
   "id": "33ddbdde-566a-4021-bdab-970a0f0adbf2",
   "metadata": {},
   "outputs": [
    {
     "data": {
      "text/plain": [
       "144"
      ]
     },
     "execution_count": 19,
     "metadata": {},
     "output_type": "execute_result"
    }
   ],
   "source": [
    "# 3.9 self-check\n",
    "\n",
    "x = 12\n",
    "x **= 2\n",
    "\n",
    "x    "
   ]
  },
  {
   "cell_type": "code",
   "execution_count": 20,
   "id": "b57d5989-7e8a-4d5a-b114-80d5db790902",
   "metadata": {},
   "outputs": [
    {
     "name": "stdout",
     "output_type": "stream",
     "text": [
      "Class average is 81.7\n"
     ]
    }
   ],
   "source": [
    "# 3.10 practice \n",
    "\n",
    "\"\"\"Class average program with sequence-controlled repetition\"\"\"\n",
    "\n",
    "# initialization (creates variables)\n",
    "\n",
    "total = 0\n",
    "grade_counter = 0\n",
    "grades = [98, 76, 71, 87, 83, 90, 57, 79, 82, 94]\n",
    "\n",
    "# processing (sums grades and counts total number of grades)\n",
    "for grade in grades:\n",
    "    total += grade\n",
    "    grade_counter += 1\n",
    "    \n",
    "#termination (calculates and displays average)\n",
    "average = total / grade_counter\n",
    "print(f'Class average is {average}')\n"
   ]
  },
  {
   "cell_type": "code",
   "execution_count": 21,
   "id": "c8da40b3-1381-405f-bc51-ca1d104588e4",
   "metadata": {},
   "outputs": [
    {
     "name": "stdin",
     "output_type": "stream",
     "text": [
      "Enter first integer: 7\n",
      "Enter second integer: 5\n"
     ]
    },
    {
     "name": "stdout",
     "output_type": "stream",
     "text": [
      "7 times 5 is 35\n"
     ]
    }
   ],
   "source": [
    "# 3.10 self-check\n",
    "\n",
    "number1 = int(input('Enter first integer:'))\n",
    "number2 = int(input('Enter second integer:'))\n",
    "\n",
    "print(f'{number1} times {number2} is {number1 * number2}')"
   ]
  },
  {
   "cell_type": "code",
   "execution_count": 5,
   "id": "98c5887b-2407-4c44-a711-44e1323b26f1",
   "metadata": {},
   "outputs": [
    {
     "name": "stdout",
     "output_type": "stream",
     "text": [
      "5  6  7  8  9  0  2  4  6  8  10  8  6  4  2  "
     ]
    }
   ],
   "source": [
    "# 3.13 range() practice\n",
    "\n",
    "for number in range(5, 10):\n",
    "    print(number, end='  ')\n",
    "    \n",
    "for number in range(0, 10, 2):\n",
    "    print(number, end='  ')\n",
    "    \n",
    "for number in range(10, 0, -2):\n",
    "    print(number, end='  ')"
   ]
  },
  {
   "cell_type": "code",
   "execution_count": 9,
   "id": "c0c6397c-38bb-4f76-867e-fe12ca93099b",
   "metadata": {},
   "outputs": [
    {
     "name": "stdout",
     "output_type": "stream",
     "text": [
      "0  1  2  3  4  5  6  7  8  9  0  1  2  3  4  6  7  8  9  1\n",
      "2\n",
      "3\n",
      "4\n",
      "5\n",
      "6\n",
      "7\n",
      "8\n",
      "10\n",
      "11\n"
     ]
    }
   ],
   "source": [
    "# 3.15 break and continue practice\n",
    "\n",
    "for number in range(100):\n",
    "    if number == 10:\n",
    "        break\n",
    "    print(number, end='  ') \n",
    "    \n",
    "for number in range(10):\n",
    "    if number == 5:\n",
    "        continue\n",
    "    print(number, end='  ')\n",
    "    \n",
    "temp = 0\n",
    "\n",
    "while temp <= 10:\n",
    "    temp += 1\n",
    "    if temp == 9:\n",
    "        continue\n",
    "    print(temp)\n",
    "    "
   ]
  },
  {
   "cell_type": "code",
   "execution_count": 11,
   "id": "67f826b8-292e-4012-9d74-ab68627f4b2e",
   "metadata": {},
   "outputs": [
    {
     "name": "stdout",
     "output_type": "stream",
     "text": [
      "Temperature out of range\n"
     ]
    }
   ],
   "source": [
    "# 3.16 practice\n",
    "\n",
    "temp = 9\n",
    "time = 24\n",
    "\n",
    "if temp <= 8 and time >= 24:\n",
    "    print('Temperature within range')\n",
    "    \n",
    "else:\n",
    "    print('Temperature out of range')"
   ]
  },
  {
   "cell_type": "code",
   "execution_count": 13,
   "id": "a4ccf470-4a1e-4e13-aef2-c86f8b8dfe1a",
   "metadata": {},
   "outputs": [
    {
     "name": "stdout",
     "output_type": "stream",
     "text": [
      "True\n",
      "False\n",
      "True\n",
      "False\n",
      "False\n"
     ]
    }
   ],
   "source": [
    "# 3.16 self-check\n",
    "\n",
    "i = 1\n",
    "j = 2\n",
    "k = 3\n",
    "m = 2\n",
    "\n",
    "print((i >= 1) and (j < 4))\n",
    "print((m <= 99) and (k < m))\n",
    "print((j >= i) or (k == m))\n",
    "print((k + m < j) or (3 - j >= k))\n",
    "print(not (k > m))"
   ]
  },
  {
   "cell_type": "code",
   "execution_count": 15,
   "id": "bad9f101-7c31-4ead-918c-207e0c419aec",
   "metadata": {},
   "outputs": [
    {
     "name": "stdout",
     "output_type": "stream",
     "text": [
      "6 , 475 , 79.16666666666667\n"
     ]
    }
   ],
   "source": [
    "# Calculate Measures of Central Tendency - Native Python\n",
    "\n",
    "values = [47, 95, 88, 73, 88, 84]\n",
    "\n",
    "count = len(values)\n",
    "total = sum(values)\n",
    "mean = total / count\n",
    "\n",
    "print(count, ',', total, ',', mean)"
   ]
  },
  {
   "cell_type": "code",
   "execution_count": 16,
   "id": "f2500219-0f7b-476b-9c0d-32ae4c0e9e5f",
   "metadata": {},
   "outputs": [
    {
     "name": "stdout",
     "output_type": "stream",
     "text": [
      "79.16666666666667\n",
      "86.0\n",
      "88\n"
     ]
    }
   ],
   "source": [
    "# Calculate Measures of Central Tendency - with Statistic Module\n",
    "\n",
    "import statistics\n",
    "\n",
    "values = [47, 95, 88, 73, 88, 84]\n",
    "\n",
    "print(statistics.mean(values))\n",
    "print(statistics.median(values))\n",
    "print(statistics.mode(values))"
   ]
  },
  {
   "cell_type": "code",
   "execution_count": 22,
   "id": "c83ca8eb-67b9-44bf-bf19-9cdc6ac9d663",
   "metadata": {},
   "outputs": [
    {
     "name": "stdout",
     "output_type": "stream",
     "text": [
      "Count = 200\n",
      "Total = 1230.0999999999995\n",
      "Native mean = 6.150499999999997\n",
      "Mean = 6.1505\n",
      "Median = 5.7\n",
      "Mode = 5.7\n"
     ]
    }
   ],
   "source": [
    "# Custom Central Tendency\n",
    "\n",
    "# Kyle Hudson\n",
    "\n",
    "import statistics\n",
    "\n",
    "temp = (3.4, 3.5, 4, 4.4, 4.6, 4.7, 4.8, 4.9, 4.9, 4.8, 4.7, 5.1, 5.5, 5.5, 5.6, 5.6, 5.6, 5.6, 5.5, 5.5, 5.5, 5.5, 5.5, 5.4, 5.4, 5.4, 5.3, 5.3, 5.3, 5.3, 5.3, 5.3, 5.2, 5.2, 5.2, 5.2, 5.2, 5.2, 5.2,\n",
    "        5.3, 5.3, 5.3, 5.4, 5.4, 5.5, 5.5, 5.6, 5.6, 5.7, 5.7, 5.7, 5.7, 5.7, 5.7, 5.7, 5.7, 5.7, 5.7, 5.7, 5.7, 5.7, 5.7, 5.7, 5.7, 5.8, 5.8, 5.9, 5.9, 6, 6, 6.1, 6.1, 6.1, 6.1, 5.5, 6, 6, 6, 6, 6,\n",
    "        6, 6, 5.8, 5.5, 5.4, 5.3, 5.3, 5.3, 5.2, 5.2, 5.2, 5.2, 5.1, 5.1, 5.3, 5.9, 6.1, 6.2, 6.2, 6.3, 6.3, 6.4, 6.4, 6.4, 6.3, 6.3, 6.3, 6.3, 6.3, 6.3, 6.3, 6.2, 6.2, 5.6, 5.1, 4.6, 4.5, 4.5, 4.5,\n",
    "        4.5, 4.5, 4.6, 4.5, 4.6, 4.6, 4.6, 4.6, 4.7, 4.7, 4.7, 4.8, 4.8, 4.9, 4.9, 5, 5, 5.1, 5.1, 5.2, 5.3, 5.4, 5.4, 5.5, 5.6, 5.7, 5.8, 5.8, 5.9, 6, 6.1, 6.1, 6.3, 6.3, 6.4, 6.5, 6.5, 6.7, 6.7,\n",
    "        6.8, 6.8, 6.9, 7, 7.1, 7, 7.1, 7.2, 7, 6.8, 7.1, 7.3, 7.5, 7.6, 7.8, 7.9, 8, 8.1, 8.2, 8.3, 8.4, 8.5, 8.7, 8.8, 8.9, 9, 9, 9.3, 9.5, 9.6, 9.8, 9.9, 10.1, 10.2, 10.4, 10.5, 10.6, 10.8, 10.9, 11,\n",
    "        11.1, 11.3)\n",
    "\n",
    "count = len(temp)\n",
    "print('Count =', count)\n",
    "\n",
    "total = sum(temp)\n",
    "print('Total =', total)\n",
    "\n",
    "native_mean = total / count\n",
    "print('Native mean =', native_mean)\n",
    "\n",
    "print('Mean =', statistics.mean(temp))\n",
    "\n",
    "print('Median =', statistics.median(temp))\n",
    "\n",
    "print('Mode =', statistics.mode(temp))"
   ]
  }
 ],
 "metadata": {
  "kernelspec": {
   "display_name": "Python 3 (ipykernel)",
   "language": "python",
   "name": "python3"
  },
  "language_info": {
   "codemirror_mode": {
    "name": "ipython",
    "version": 3
   },
   "file_extension": ".py",
   "mimetype": "text/x-python",
   "name": "python",
   "nbconvert_exporter": "python",
   "pygments_lexer": "ipython3",
   "version": "3.8.12"
  }
 },
 "nbformat": 4,
 "nbformat_minor": 5
}
